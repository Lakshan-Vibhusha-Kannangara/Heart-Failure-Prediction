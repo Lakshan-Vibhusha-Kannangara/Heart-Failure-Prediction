{
  "cells": [
    {
      "cell_type": "markdown",
      "id": "e8822937",
      "metadata": {
        "papermill": {
          "duration": 0.033966,
          "end_time": "2022-04-17T03:48:41.207680",
          "exception": false,
          "start_time": "2022-04-17T03:48:41.173714",
          "status": "completed"
        },
        "tags": [],
        "id": "e8822937"
      },
      "source": [
        "\n",
        "# <h1 style='background:#F08080; border:2; border-radius: 10px; font-size:250%; font-weight: bold; color:black'><center>HEART FAILURE PREDICTION</center></h1>\n",
        "\n",
        "<center><img src = \"https://d112y698adiu2z.cloudfront.net/photos/production/software_photos/001/731/418/datas/original.jpg\" width = 150 height = 150/></center>\n",
        "\n",
        "Cardiovascular diseases (CVDs) are the number major cause of death globally, taking an estimated 17.9 million lives each year, which accounts for 31% of all deaths worlwide.\n",
        "\n",
        "Heart failure is a common event caused by CVDs and this dataset contains 12 features that can be used to predict mortality by heart failure.\n",
        "\n",
        "Most cardiovascular diseases can be prevented by addressing behavioural risk factors such as tobacco use, unhealthy diet and obesity, physical inactivity and harmful use of alcohol using population-wide strategies.\n",
        "\n",
        "People with cardiovascular disease or who are at high cardiovascular risk (due to the presence of one or more risk factors such as hypertension, diabetes, hyperlipidaemia or already established disease) need early detection and management wherein a machine learning model can be of great help.\n",
        "\n",
        "You are assinged to build a model using neural networks for early detection and management of cardiovascular diseases.\n"
      ]
    },
    {
      "cell_type": "markdown",
      "source": [
        "<h1 style='background:#F08080; border:2; border-radius: 10px; color:black'><center>Import Dependancies</center></h1>\n",
        "\n",
        "*   Import dependancies for performing linear algebra,data processing and data visualization."
      ],
      "metadata": {
        "id": "IdhN4JLnjA4P"
      },
      "id": "IdhN4JLnjA4P"
    },
    {
      "cell_type": "code",
      "source": [
        "# 1. import dependancies\n",
        "import tensorflow as tf\n",
        "import numpy as np #imported numpy for matrix algebra\n",
        "import pandas as pd #imported pandas for data representation\n",
        "import matplotlib.pyplot as plt #imported matplotlib to plot data\n",
        "from sklearn.preprocessing import StandardScaler      #imported scikit-learn data preprocessing Standard Scalar\n",
        "from sklearn.model_selection import train_test_split #imported scikit-learn train data test data split function\n",
        "from sklearn.metrics import accuracy_score     #imported evaluation parameters\n",
        "from sklearn.metrics import confusion_matrix\n",
        "from sklearn.metrics import classification_report\n",
        "from tensorflow import keras      #imported keras to create neural network model\n",
        "from keras.models import Sequential\n",
        "from keras.layers import Dense\n",
        "from keras.layers import Dropout"
      ],
      "metadata": {
        "id": "6_uZujxwlXka"
      },
      "id": "6_uZujxwlXka",
      "execution_count": null,
      "outputs": []
    },
    {
      "cell_type": "markdown",
      "source": [
        "<h1 style='background:#F08080; border:2; border-radius: 10px; color:black'><center>Loading Data</center></h1>\n",
        "\n",
        "*   Load the csv file, heart_failure_clinical_records_dataset.csv which contains data\n",
        "\n",
        "<div style=\"border-radius:10px;\n",
        "            border : black solid;\n",
        "            background-color: \t#FFFFF0;\n",
        "            font-size:110%;\n",
        "            text-align: left\">\n",
        "\n",
        "<h2 style='; border:0; border-radius: 10px; font-weight: bold; color:black'><center>About the data (Description of attributes)</center></h2>  \n",
        "    \n",
        "* **age:** Age of the patient\n",
        "* **anaemia:** Haemoglobin level of patient (Boolean)\n",
        "* **creatinine_phosphokinase:** Level of the CPK enzyme in the blood (mcg/L)\n",
        "* **diabetes:** If the patient has diabetes (Boolean)\n",
        "* **ejection_fraction:** Percentage of blood leaving the heart at each contraction\n",
        "* **high_blood_pressure:** If the patient has hypertension (Boolean)\n",
        "* **platelets:** Platelet count of blood (kiloplatelets/mL)\n",
        "* **serum_creatinine:** Level of serum creatinine in the blood (mg/dL)\n",
        "* **serum_sodium:** Level of serum sodium in the blood (mEq/L)\n",
        "* **sex:** Sex of the patient\n",
        "* **smoking:** If the patient smokes or not (Boolean)\n",
        "* **time:** Follow-up period (days)\n",
        "* **DEATH_EVENT:** If the patient deceased during the follow-up period (Boolean)\n",
        "\n",
        "**[Attributes having Boolean values:** 0 = Negative (No); 1 = Positive (Yes)]"
      ],
      "metadata": {
        "id": "zlwdLLailSH6"
      },
      "id": "zlwdLLailSH6"
    },
    {
      "cell_type": "code",
      "source": [
        "# Upload json which contains API token\n",
        "from google.colab import files              #imported kaggle json file\n",
        "\n",
        "files.upload()"
      ],
      "metadata": {
        "colab": {
          "base_uri": "https://localhost:8080/",
          "height": 91
        },
        "id": "hW-Bzr92vP8r",
        "outputId": "22d84fde-bc29-4b4f-d064-cbf7f22c7319"
      },
      "id": "hW-Bzr92vP8r",
      "execution_count": null,
      "outputs": [
        {
          "output_type": "display_data",
          "data": {
            "text/plain": [
              "<IPython.core.display.HTML object>"
            ],
            "text/html": [
              "\n",
              "     <input type=\"file\" id=\"files-9834b440-ce98-43b8-9548-ee78fdf26843\" name=\"files[]\" multiple disabled\n",
              "        style=\"border:none\" />\n",
              "     <output id=\"result-9834b440-ce98-43b8-9548-ee78fdf26843\">\n",
              "      Upload widget is only available when the cell has been executed in the\n",
              "      current browser session. Please rerun this cell to enable.\n",
              "      </output>\n",
              "      <script>// Copyright 2017 Google LLC\n",
              "//\n",
              "// Licensed under the Apache License, Version 2.0 (the \"License\");\n",
              "// you may not use this file except in compliance with the License.\n",
              "// You may obtain a copy of the License at\n",
              "//\n",
              "//      http://www.apache.org/licenses/LICENSE-2.0\n",
              "//\n",
              "// Unless required by applicable law or agreed to in writing, software\n",
              "// distributed under the License is distributed on an \"AS IS\" BASIS,\n",
              "// WITHOUT WARRANTIES OR CONDITIONS OF ANY KIND, either express or implied.\n",
              "// See the License for the specific language governing permissions and\n",
              "// limitations under the License.\n",
              "\n",
              "/**\n",
              " * @fileoverview Helpers for google.colab Python module.\n",
              " */\n",
              "(function(scope) {\n",
              "function span(text, styleAttributes = {}) {\n",
              "  const element = document.createElement('span');\n",
              "  element.textContent = text;\n",
              "  for (const key of Object.keys(styleAttributes)) {\n",
              "    element.style[key] = styleAttributes[key];\n",
              "  }\n",
              "  return element;\n",
              "}\n",
              "\n",
              "// Max number of bytes which will be uploaded at a time.\n",
              "const MAX_PAYLOAD_SIZE = 100 * 1024;\n",
              "\n",
              "function _uploadFiles(inputId, outputId) {\n",
              "  const steps = uploadFilesStep(inputId, outputId);\n",
              "  const outputElement = document.getElementById(outputId);\n",
              "  // Cache steps on the outputElement to make it available for the next call\n",
              "  // to uploadFilesContinue from Python.\n",
              "  outputElement.steps = steps;\n",
              "\n",
              "  return _uploadFilesContinue(outputId);\n",
              "}\n",
              "\n",
              "// This is roughly an async generator (not supported in the browser yet),\n",
              "// where there are multiple asynchronous steps and the Python side is going\n",
              "// to poll for completion of each step.\n",
              "// This uses a Promise to block the python side on completion of each step,\n",
              "// then passes the result of the previous step as the input to the next step.\n",
              "function _uploadFilesContinue(outputId) {\n",
              "  const outputElement = document.getElementById(outputId);\n",
              "  const steps = outputElement.steps;\n",
              "\n",
              "  const next = steps.next(outputElement.lastPromiseValue);\n",
              "  return Promise.resolve(next.value.promise).then((value) => {\n",
              "    // Cache the last promise value to make it available to the next\n",
              "    // step of the generator.\n",
              "    outputElement.lastPromiseValue = value;\n",
              "    return next.value.response;\n",
              "  });\n",
              "}\n",
              "\n",
              "/**\n",
              " * Generator function which is called between each async step of the upload\n",
              " * process.\n",
              " * @param {string} inputId Element ID of the input file picker element.\n",
              " * @param {string} outputId Element ID of the output display.\n",
              " * @return {!Iterable<!Object>} Iterable of next steps.\n",
              " */\n",
              "function* uploadFilesStep(inputId, outputId) {\n",
              "  const inputElement = document.getElementById(inputId);\n",
              "  inputElement.disabled = false;\n",
              "\n",
              "  const outputElement = document.getElementById(outputId);\n",
              "  outputElement.innerHTML = '';\n",
              "\n",
              "  const pickedPromise = new Promise((resolve) => {\n",
              "    inputElement.addEventListener('change', (e) => {\n",
              "      resolve(e.target.files);\n",
              "    });\n",
              "  });\n",
              "\n",
              "  const cancel = document.createElement('button');\n",
              "  inputElement.parentElement.appendChild(cancel);\n",
              "  cancel.textContent = 'Cancel upload';\n",
              "  const cancelPromise = new Promise((resolve) => {\n",
              "    cancel.onclick = () => {\n",
              "      resolve(null);\n",
              "    };\n",
              "  });\n",
              "\n",
              "  // Wait for the user to pick the files.\n",
              "  const files = yield {\n",
              "    promise: Promise.race([pickedPromise, cancelPromise]),\n",
              "    response: {\n",
              "      action: 'starting',\n",
              "    }\n",
              "  };\n",
              "\n",
              "  cancel.remove();\n",
              "\n",
              "  // Disable the input element since further picks are not allowed.\n",
              "  inputElement.disabled = true;\n",
              "\n",
              "  if (!files) {\n",
              "    return {\n",
              "      response: {\n",
              "        action: 'complete',\n",
              "      }\n",
              "    };\n",
              "  }\n",
              "\n",
              "  for (const file of files) {\n",
              "    const li = document.createElement('li');\n",
              "    li.append(span(file.name, {fontWeight: 'bold'}));\n",
              "    li.append(span(\n",
              "        `(${file.type || 'n/a'}) - ${file.size} bytes, ` +\n",
              "        `last modified: ${\n",
              "            file.lastModifiedDate ? file.lastModifiedDate.toLocaleDateString() :\n",
              "                                    'n/a'} - `));\n",
              "    const percent = span('0% done');\n",
              "    li.appendChild(percent);\n",
              "\n",
              "    outputElement.appendChild(li);\n",
              "\n",
              "    const fileDataPromise = new Promise((resolve) => {\n",
              "      const reader = new FileReader();\n",
              "      reader.onload = (e) => {\n",
              "        resolve(e.target.result);\n",
              "      };\n",
              "      reader.readAsArrayBuffer(file);\n",
              "    });\n",
              "    // Wait for the data to be ready.\n",
              "    let fileData = yield {\n",
              "      promise: fileDataPromise,\n",
              "      response: {\n",
              "        action: 'continue',\n",
              "      }\n",
              "    };\n",
              "\n",
              "    // Use a chunked sending to avoid message size limits. See b/62115660.\n",
              "    let position = 0;\n",
              "    do {\n",
              "      const length = Math.min(fileData.byteLength - position, MAX_PAYLOAD_SIZE);\n",
              "      const chunk = new Uint8Array(fileData, position, length);\n",
              "      position += length;\n",
              "\n",
              "      const base64 = btoa(String.fromCharCode.apply(null, chunk));\n",
              "      yield {\n",
              "        response: {\n",
              "          action: 'append',\n",
              "          file: file.name,\n",
              "          data: base64,\n",
              "        },\n",
              "      };\n",
              "\n",
              "      let percentDone = fileData.byteLength === 0 ?\n",
              "          100 :\n",
              "          Math.round((position / fileData.byteLength) * 100);\n",
              "      percent.textContent = `${percentDone}% done`;\n",
              "\n",
              "    } while (position < fileData.byteLength);\n",
              "  }\n",
              "\n",
              "  // All done.\n",
              "  yield {\n",
              "    response: {\n",
              "      action: 'complete',\n",
              "    }\n",
              "  };\n",
              "}\n",
              "\n",
              "scope.google = scope.google || {};\n",
              "scope.google.colab = scope.google.colab || {};\n",
              "scope.google.colab._files = {\n",
              "  _uploadFiles,\n",
              "  _uploadFilesContinue,\n",
              "};\n",
              "})(self);\n",
              "</script> "
            ]
          },
          "metadata": {}
        },
        {
          "output_type": "stream",
          "name": "stdout",
          "text": [
            "Saving kaggle.json to kaggle (1).json\n"
          ]
        },
        {
          "output_type": "execute_result",
          "data": {
            "text/plain": [
              "{'kaggle.json': b'{\"username\":\"vibhookannangara\",\"key\":\"7e35d0823e8d55c09540042fbfe1ae4a\"}'}"
            ]
          },
          "metadata": {},
          "execution_count": 55
        }
      ]
    },
    {
      "cell_type": "code",
      "source": [
        "\n",
        "\n",
        "# copy the keggle.json to folder create\n",
        "!cp kaggle.json ~/.kaggle/\n",
        "\n",
        "# permission for the json to act\n",
        "!chmod 600 ~/.kaggle/kaggle.json\n",
        "\n",
        "!kaggle datasets download -d andrewmvd/heart-failure-clinical-data --force          #downloaded kaggle heart-failure dataset\n",
        "\n"
      ],
      "metadata": {
        "id": "MJD3D2Omu-or",
        "colab": {
          "base_uri": "https://localhost:8080/"
        },
        "outputId": "0e6bfdb3-4ea6-4915-bc5d-043617fcf8b4"
      },
      "execution_count": null,
      "outputs": [
        {
          "output_type": "stream",
          "name": "stdout",
          "text": [
            "Downloading heart-failure-clinical-data.zip to /content\n",
            "\r  0% 0.00/3.97k [00:00<?, ?B/s]\n",
            "\r100% 3.97k/3.97k [00:00<00:00, 4.46MB/s]\n"
          ]
        }
      ],
      "id": "MJD3D2Omu-or"
    },
    {
      "cell_type": "code",
      "source": [
        "# extracting the compessed Dataset\n",
        "from zipfile import ZipFile\n",
        "dataset = '/content/heart-failure-clinical-data.zip'\n",
        "\n",
        "with ZipFile(dataset,'r') as zip:\n",
        "  zip.extractall()\n",
        "  print('The dataset is extracted')     #extracted dataset"
      ],
      "metadata": {
        "colab": {
          "base_uri": "https://localhost:8080/"
        },
        "id": "KJNGHzXMwN0C",
        "outputId": "8d3145ca-ac0f-4155-9c2b-31230b46e111"
      },
      "id": "KJNGHzXMwN0C",
      "execution_count": null,
      "outputs": [
        {
          "output_type": "stream",
          "name": "stdout",
          "text": [
            "The dataset is extracted\n"
          ]
        }
      ]
    },
    {
      "cell_type": "code",
      "source": [
        "# 2. loading data\n",
        "df =  pd.read_csv(r\"/content/heart_failure_clinical_records_dataset.csv\")      #created a pandas dataframe from the dataset"
      ],
      "metadata": {
        "id": "yAgwtcopemSy"
      },
      "id": "yAgwtcopemSy",
      "execution_count": null,
      "outputs": []
    },
    {
      "cell_type": "markdown",
      "id": "e2286e95",
      "metadata": {
        "papermill": {
          "duration": 0.033414,
          "end_time": "2022-04-17T03:48:48.673068",
          "exception": false,
          "start_time": "2022-04-17T03:48:48.639654",
          "status": "completed"
        },
        "tags": [],
        "id": "e2286e95"
      },
      "source": [
        "<h1 style='background:#F08080; border:0; border-radius: 10px; color:black'><center>Analyzing Data</center></h1>\n",
        "\n",
        "*   Display first five rows of dataset\n",
        "*   Describe the dataset doing Univariate Analysis for statistical description and understanding of dispersion of data\n",
        "*   Print information about the DataFrame including the number of columns, column labels, column data types, memory usage, range index, and the number of cells in each column (non-null values)\n"
      ]
    },
    {
      "cell_type": "code",
      "execution_count": null,
      "id": "019f6dd1",
      "metadata": {
        "execution": {
          "iopub.execute_input": "2022-04-17T03:48:48.744081Z",
          "iopub.status.busy": "2022-04-17T03:48:48.743463Z",
          "iopub.status.idle": "2022-04-17T03:48:48.783219Z",
          "shell.execute_reply": "2022-04-17T03:48:48.782629Z"
        },
        "papermill": {
          "duration": 0.077481,
          "end_time": "2022-04-17T03:48:48.785931",
          "exception": false,
          "start_time": "2022-04-17T03:48:48.708450",
          "status": "completed"
        },
        "tags": [],
        "id": "019f6dd1",
        "colab": {
          "base_uri": "https://localhost:8080/"
        },
        "outputId": "946c6a95-13c1-4a75-b145-295d36b91cbf"
      },
      "outputs": [
        {
          "output_type": "stream",
          "name": "stdout",
          "text": [
            "    age  anaemia  creatinine_phosphokinase  diabetes  ejection_fraction  \\\n",
            "0  75.0        0                       582         0                 20   \n",
            "1  55.0        0                      7861         0                 38   \n",
            "2  65.0        0                       146         0                 20   \n",
            "3  50.0        1                       111         0                 20   \n",
            "4  65.0        1                       160         1                 20   \n",
            "\n",
            "   high_blood_pressure  platelets  serum_creatinine  serum_sodium  sex  \\\n",
            "0                    1  265000.00               1.9           130    1   \n",
            "1                    0  263358.03               1.1           136    1   \n",
            "2                    0  162000.00               1.3           129    1   \n",
            "3                    0  210000.00               1.9           137    1   \n",
            "4                    0  327000.00               2.7           116    0   \n",
            "\n",
            "   smoking  time  DEATH_EVENT  \n",
            "0        0     4            1  \n",
            "1        0     6            1  \n",
            "2        1     7            1  \n",
            "3        0     7            1  \n",
            "4        0     8            1  \n"
          ]
        }
      ],
      "source": [
        "# 3. display first five rows of dataset\n",
        "print(df.head(5))         #displayed first 5 data of the pandas dataframe"
      ]
    },
    {
      "cell_type": "code",
      "source": [
        "# 4. describe the dataset doing Univariate Analysis for statistical description\n",
        "print(df.describe())                                #statistical parameters for each column of the dataframe"
      ],
      "metadata": {
        "id": "Thmi-tMEtUZ9",
        "colab": {
          "base_uri": "https://localhost:8080/"
        },
        "outputId": "08af6e3a-d245-42ac-fe44-dd389ec3d708"
      },
      "id": "Thmi-tMEtUZ9",
      "execution_count": null,
      "outputs": [
        {
          "output_type": "stream",
          "name": "stdout",
          "text": [
            "              age     anaemia  creatinine_phosphokinase    diabetes  \\\n",
            "count  299.000000  299.000000                299.000000  299.000000   \n",
            "mean    60.833893    0.431438                581.839465    0.418060   \n",
            "std     11.894809    0.496107                970.287881    0.494067   \n",
            "min     40.000000    0.000000                 23.000000    0.000000   \n",
            "25%     51.000000    0.000000                116.500000    0.000000   \n",
            "50%     60.000000    0.000000                250.000000    0.000000   \n",
            "75%     70.000000    1.000000                582.000000    1.000000   \n",
            "max     95.000000    1.000000               7861.000000    1.000000   \n",
            "\n",
            "       ejection_fraction  high_blood_pressure      platelets  \\\n",
            "count         299.000000           299.000000     299.000000   \n",
            "mean           38.083612             0.351171  263358.029264   \n",
            "std            11.834841             0.478136   97804.236869   \n",
            "min            14.000000             0.000000   25100.000000   \n",
            "25%            30.000000             0.000000  212500.000000   \n",
            "50%            38.000000             0.000000  262000.000000   \n",
            "75%            45.000000             1.000000  303500.000000   \n",
            "max            80.000000             1.000000  850000.000000   \n",
            "\n",
            "       serum_creatinine  serum_sodium         sex    smoking        time  \\\n",
            "count         299.00000    299.000000  299.000000  299.00000  299.000000   \n",
            "mean            1.39388    136.625418    0.648829    0.32107  130.260870   \n",
            "std             1.03451      4.412477    0.478136    0.46767   77.614208   \n",
            "min             0.50000    113.000000    0.000000    0.00000    4.000000   \n",
            "25%             0.90000    134.000000    0.000000    0.00000   73.000000   \n",
            "50%             1.10000    137.000000    1.000000    0.00000  115.000000   \n",
            "75%             1.40000    140.000000    1.000000    1.00000  203.000000   \n",
            "max             9.40000    148.000000    1.000000    1.00000  285.000000   \n",
            "\n",
            "       DEATH_EVENT  \n",
            "count    299.00000  \n",
            "mean       0.32107  \n",
            "std        0.46767  \n",
            "min        0.00000  \n",
            "25%        0.00000  \n",
            "50%        0.00000  \n",
            "75%        1.00000  \n",
            "max        1.00000  \n"
          ]
        }
      ]
    },
    {
      "cell_type": "code",
      "source": [
        "# 5. print information about the DataFrame\n",
        "print(df.dtypes)             #I looked at all the datatypes of the dataframe columns"
      ],
      "metadata": {
        "id": "Ns26FVmhxOsS",
        "colab": {
          "base_uri": "https://localhost:8080/"
        },
        "outputId": "09ceb63d-5c05-44f0-b044-ba9e8f987457"
      },
      "id": "Ns26FVmhxOsS",
      "execution_count": null,
      "outputs": [
        {
          "output_type": "stream",
          "name": "stdout",
          "text": [
            "age                         float64\n",
            "anaemia                       int64\n",
            "creatinine_phosphokinase      int64\n",
            "diabetes                      int64\n",
            "ejection_fraction             int64\n",
            "high_blood_pressure           int64\n",
            "platelets                   float64\n",
            "serum_creatinine            float64\n",
            "serum_sodium                  int64\n",
            "sex                           int64\n",
            "smoking                       int64\n",
            "time                          int64\n",
            "DEATH_EVENT                   int64\n",
            "dtype: object\n"
          ]
        }
      ]
    },
    {
      "cell_type": "markdown",
      "id": "3e6630dd",
      "metadata": {
        "papermill": {
          "duration": 0.034217,
          "end_time": "2022-04-17T03:48:48.924199",
          "exception": false,
          "start_time": "2022-04-17T03:48:48.889982",
          "status": "completed"
        },
        "tags": [],
        "id": "3e6630dd"
      },
      "source": [
        "<h1 style='background:#F08080; border:0; border-radius: 10px; color:black'><center>Data Preprocessing</center></h1>\n",
        "\n",
        "*   Handle missing values if there any\n",
        "*   Defining independent and dependent attributes ( features and targets)\n",
        "*   Setting up a standard scaler for the feattaures and analyzing it thereafter\n",
        "*   Split variables into training and test sets such that when you execute your code the result would be the same eachtime. Allocat 70% of data into training set."
      ]
    },
    {
      "cell_type": "code",
      "source": [
        "# 6. handle missing values\n",
        "print(df.isna().sum())           #checked whether threre are missing values in rows"
      ],
      "metadata": {
        "id": "QjnRZEzgt2O-",
        "colab": {
          "base_uri": "https://localhost:8080/"
        },
        "outputId": "255fec90-815a-454f-e4b5-0dac8545f033"
      },
      "id": "QjnRZEzgt2O-",
      "execution_count": null,
      "outputs": [
        {
          "output_type": "stream",
          "name": "stdout",
          "text": [
            "age                         0\n",
            "anaemia                     0\n",
            "creatinine_phosphokinase    0\n",
            "diabetes                    0\n",
            "ejection_fraction           0\n",
            "high_blood_pressure         0\n",
            "platelets                   0\n",
            "serum_creatinine            0\n",
            "serum_sodium                0\n",
            "sex                         0\n",
            "smoking                     0\n",
            "time                        0\n",
            "DEATH_EVENT                 0\n",
            "dtype: int64\n"
          ]
        }
      ]
    },
    {
      "cell_type": "code",
      "execution_count": null,
      "id": "4bd7cae2",
      "metadata": {
        "execution": {
          "iopub.execute_input": "2022-04-17T03:48:56.031244Z",
          "iopub.status.busy": "2022-04-17T03:48:56.030972Z",
          "iopub.status.idle": "2022-04-17T03:48:56.036289Z",
          "shell.execute_reply": "2022-04-17T03:48:56.035588Z"
        },
        "papermill": {
          "duration": 0.063467,
          "end_time": "2022-04-17T03:48:56.038262",
          "exception": false,
          "start_time": "2022-04-17T03:48:55.974795",
          "status": "completed"
        },
        "tags": [],
        "id": "4bd7cae2"
      },
      "outputs": [],
      "source": [
        "# 7. defining independent and dependent attributes in training and test sets\n",
        "X = df.drop('DEATH_EVENT', axis=1) # Defined as independent variable\n",
        "y = df['DEATH_EVENT'] # Defined as independent variables"
      ]
    },
    {
      "cell_type": "code",
      "execution_count": null,
      "id": "7992768f",
      "metadata": {
        "execution": {
          "iopub.execute_input": "2022-04-17T03:48:56.149526Z",
          "iopub.status.busy": "2022-04-17T03:48:56.149097Z",
          "iopub.status.idle": "2022-04-17T03:48:56.198158Z",
          "shell.execute_reply": "2022-04-17T03:48:56.197554Z"
        },
        "papermill": {
          "duration": 0.106669,
          "end_time": "2022-04-17T03:48:56.200004",
          "exception": false,
          "start_time": "2022-04-17T03:48:56.093335",
          "status": "completed"
        },
        "tags": [],
        "id": "7992768f"
      },
      "outputs": [],
      "source": [
        "# 8. setting up a standard scaler for the features and analyzing it thereafter\n",
        "sc = StandardScaler()        #I used scikit learn scaler to scale the inputs and outputs"
      ]
    },
    {
      "cell_type": "code",
      "execution_count": null,
      "id": "1002c9c0",
      "metadata": {
        "execution": {
          "iopub.execute_input": "2022-04-17T03:48:56.758106Z",
          "iopub.status.busy": "2022-04-17T03:48:56.757822Z",
          "iopub.status.idle": "2022-04-17T03:48:56.764050Z",
          "shell.execute_reply": "2022-04-17T03:48:56.763233Z"
        },
        "papermill": {
          "duration": 0.066126,
          "end_time": "2022-04-17T03:48:56.765864",
          "exception": false,
          "start_time": "2022-04-17T03:48:56.699738",
          "status": "completed"
        },
        "tags": [],
        "id": "1002c9c0"
      },
      "outputs": [],
      "source": [
        "# 9. spliting variables into training and test sets\n",
        "X_train, X_test, y_train, y_test = train_test_split(X, y, test_size=0.3, random_state=42)  #split the dataset to 70/30\n",
        "X_train = sc.fit_transform(X_train)         #scaled the data\n",
        "X_test = sc.transform(X_test)"
      ]
    },
    {
      "cell_type": "markdown",
      "id": "c8fa4002",
      "metadata": {
        "papermill": {
          "duration": 0.058218,
          "end_time": "2022-04-17T03:48:57.694463",
          "exception": false,
          "start_time": "2022-04-17T03:48:57.636245",
          "status": "completed"
        },
        "tags": [],
        "id": "c8fa4002"
      },
      "source": [
        "<h1 style='background:#F08080; border:0; border-radius: 10px; color:black'><center>Identify Problem Type</center></h1>\n",
        "\n",
        "*   Explain which type of problem type is this?"
      ]
    },
    {
      "cell_type": "markdown",
      "source": [
        "**`# 10. TYPE YOUR ANSWER HERE`**\n",
        "\n",
        "> Data Classification Problem\n",
        "\n"
      ],
      "metadata": {
        "id": "R2JC_eAmr7SY"
      },
      "id": "R2JC_eAmr7SY"
    },
    {
      "cell_type": "markdown",
      "source": [
        "<h1 style='background:#F08080; border:0; border-radius: 10px; color:black'><center>Model Building</center></h1>\n",
        "\n",
        "*   Initialize the neural network\n",
        "*   Add input layer and define input dimentions\n",
        "*   Add two hidden layers and define suitable activation functions for each\n",
        "*   Add output layer and define suitable activation function and define number of neurons correctly\n",
        "*   Model should not be overfit"
      ],
      "metadata": {
        "id": "Oem-pNn2sD3H"
      },
      "id": "Oem-pNn2sD3H"
    },
    {
      "cell_type": "code",
      "execution_count": null,
      "id": "2227717d",
      "metadata": {
        "execution": {
          "iopub.execute_input": "2022-04-17T03:48:57.814464Z",
          "iopub.status.busy": "2022-04-17T03:48:57.813769Z",
          "iopub.status.idle": "2022-04-17T03:49:03.766098Z",
          "shell.execute_reply": "2022-04-17T03:49:03.765356Z"
        },
        "papermill": {
          "duration": 6.016112,
          "end_time": "2022-04-17T03:49:03.769111",
          "exception": false,
          "start_time": "2022-04-17T03:48:57.752999",
          "status": "completed"
        },
        "tags": [],
        "id": "2227717d"
      },
      "outputs": [],
      "source": [
        "# 11. Initialising the NN\n",
        "classifier = Sequential()\n",
        "\n",
        "# 12. layers\n",
        "classifier.add(Dense(units=8, activation='relu'))\n",
        "classifier.add(Dense(units=8, activation='relu'))\n",
        "classifier.add(Dense(units=1, activation='sigmoid'))"
      ]
    },
    {
      "cell_type": "markdown",
      "source": [
        "![Screenshot 2023-01-17 at 19.06.59.png](data:image/png;base64,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)"
      ],
      "metadata": {
        "id": "VhDZPwSp87KB"
      },
      "id": "VhDZPwSp87KB"
    },
    {
      "cell_type": "markdown",
      "source": [],
      "metadata": {
        "id": "xuP2_1B783Bj"
      },
      "id": "xuP2_1B783Bj"
    },
    {
      "cell_type": "markdown",
      "source": [
        "<h1 style='background:#F08080; border:0; border-radius: 10px; color:black'><center>Compile the Model</center></h1>\n",
        "\n",
        "*   Compile the model with adam optimizer\n",
        "*   Choose correct loss function baesd on problem type\n",
        "*   Define performance metrics baesd on problem type"
      ],
      "metadata": {
        "id": "P11KfT2etfMk"
      },
      "id": "P11KfT2etfMk"
    },
    {
      "cell_type": "code",
      "source": [
        "# 13. Compiling the ANN\n",
        "classifier.compile(optimizer='adam', loss=tf.keras.losses.BinaryCrossentropy(), metrics= tf.keras.metrics.BinaryAccuracy())\n",
        "#compiled neural network using adam optimizer and binary crossentropy loss estimator"
      ],
      "metadata": {
        "id": "7KFzJRaBto5f"
      },
      "id": "7KFzJRaBto5f",
      "execution_count": null,
      "outputs": []
    },
    {
      "cell_type": "markdown",
      "source": [
        "<h1 style='background:#F08080; border:0; border-radius: 10px; color:black'><center>Train the Model</center></h1>\n",
        "\n",
        "*   Choose batch size as 25\n",
        "*   Choose epochs to 80\n",
        "*   Use 25% of training data as validation data"
      ],
      "metadata": {
        "id": "UDq2SSSy73Hg"
      },
      "id": "UDq2SSSy73Hg"
    },
    {
      "cell_type": "code",
      "source": [
        "# 14. Train the ANN\n",
        "history = classifier.fit(X_train, y_train, batch_size=25, validation_split=0.25, epochs=80)\n",
        "#validation set split as 25%"
      ],
      "metadata": {
        "id": "WLAFOxCL7_Lc",
        "colab": {
          "base_uri": "https://localhost:8080/"
        },
        "outputId": "e9385033-a510-4258-b3ca-f7c2defb35ea"
      },
      "id": "WLAFOxCL7_Lc",
      "execution_count": null,
      "outputs": [
        {
          "output_type": "stream",
          "name": "stdout",
          "text": [
            "Epoch 1/80\n",
            "7/7 [==============================] - 1s 22ms/step - loss: 0.3914 - binary_accuracy: 0.7821 - val_loss: 0.5992 - val_binary_accuracy: 0.7547\n",
            "Epoch 2/80\n",
            "7/7 [==============================] - 0s 8ms/step - loss: 0.3879 - binary_accuracy: 0.7821 - val_loss: 0.5943 - val_binary_accuracy: 0.7547\n",
            "Epoch 3/80\n",
            "7/7 [==============================] - 0s 7ms/step - loss: 0.3856 - binary_accuracy: 0.7949 - val_loss: 0.5906 - val_binary_accuracy: 0.7547\n",
            "Epoch 4/80\n",
            "7/7 [==============================] - 0s 7ms/step - loss: 0.3833 - binary_accuracy: 0.8077 - val_loss: 0.5873 - val_binary_accuracy: 0.7547\n",
            "Epoch 5/80\n",
            "7/7 [==============================] - 0s 6ms/step - loss: 0.3807 - binary_accuracy: 0.8141 - val_loss: 0.5857 - val_binary_accuracy: 0.7547\n",
            "Epoch 6/80\n",
            "7/7 [==============================] - 0s 10ms/step - loss: 0.3782 - binary_accuracy: 0.8269 - val_loss: 0.5827 - val_binary_accuracy: 0.7547\n",
            "Epoch 7/80\n",
            "7/7 [==============================] - 0s 6ms/step - loss: 0.3759 - binary_accuracy: 0.8333 - val_loss: 0.5802 - val_binary_accuracy: 0.7547\n",
            "Epoch 8/80\n",
            "7/7 [==============================] - 0s 9ms/step - loss: 0.3734 - binary_accuracy: 0.8333 - val_loss: 0.5767 - val_binary_accuracy: 0.7547\n",
            "Epoch 9/80\n",
            "7/7 [==============================] - 0s 9ms/step - loss: 0.3709 - binary_accuracy: 0.8333 - val_loss: 0.5728 - val_binary_accuracy: 0.7547\n",
            "Epoch 10/80\n",
            "7/7 [==============================] - 0s 9ms/step - loss: 0.3686 - binary_accuracy: 0.8333 - val_loss: 0.5710 - val_binary_accuracy: 0.7358\n",
            "Epoch 11/80\n",
            "7/7 [==============================] - 0s 6ms/step - loss: 0.3663 - binary_accuracy: 0.8397 - val_loss: 0.5675 - val_binary_accuracy: 0.7358\n",
            "Epoch 12/80\n",
            "7/7 [==============================] - 0s 7ms/step - loss: 0.3636 - binary_accuracy: 0.8397 - val_loss: 0.5638 - val_binary_accuracy: 0.7358\n",
            "Epoch 13/80\n",
            "7/7 [==============================] - 0s 7ms/step - loss: 0.3611 - binary_accuracy: 0.8462 - val_loss: 0.5597 - val_binary_accuracy: 0.7358\n",
            "Epoch 14/80\n",
            "7/7 [==============================] - 0s 10ms/step - loss: 0.3583 - binary_accuracy: 0.8526 - val_loss: 0.5561 - val_binary_accuracy: 0.7358\n",
            "Epoch 15/80\n",
            "7/7 [==============================] - 0s 7ms/step - loss: 0.3559 - binary_accuracy: 0.8526 - val_loss: 0.5521 - val_binary_accuracy: 0.7358\n",
            "Epoch 16/80\n",
            "7/7 [==============================] - 0s 11ms/step - loss: 0.3532 - binary_accuracy: 0.8590 - val_loss: 0.5499 - val_binary_accuracy: 0.7358\n",
            "Epoch 17/80\n",
            "7/7 [==============================] - 0s 7ms/step - loss: 0.3506 - binary_accuracy: 0.8526 - val_loss: 0.5466 - val_binary_accuracy: 0.7358\n",
            "Epoch 18/80\n",
            "7/7 [==============================] - 0s 7ms/step - loss: 0.3480 - binary_accuracy: 0.8590 - val_loss: 0.5446 - val_binary_accuracy: 0.7358\n",
            "Epoch 19/80\n",
            "7/7 [==============================] - 0s 8ms/step - loss: 0.3452 - binary_accuracy: 0.8590 - val_loss: 0.5432 - val_binary_accuracy: 0.7358\n",
            "Epoch 20/80\n",
            "7/7 [==============================] - 0s 7ms/step - loss: 0.3427 - binary_accuracy: 0.8590 - val_loss: 0.5403 - val_binary_accuracy: 0.7358\n",
            "Epoch 21/80\n",
            "7/7 [==============================] - 0s 10ms/step - loss: 0.3407 - binary_accuracy: 0.8718 - val_loss: 0.5370 - val_binary_accuracy: 0.7547\n",
            "Epoch 22/80\n",
            "7/7 [==============================] - 0s 8ms/step - loss: 0.3382 - binary_accuracy: 0.8718 - val_loss: 0.5338 - val_binary_accuracy: 0.7547\n",
            "Epoch 23/80\n",
            "7/7 [==============================] - 0s 6ms/step - loss: 0.3357 - binary_accuracy: 0.8718 - val_loss: 0.5316 - val_binary_accuracy: 0.7547\n",
            "Epoch 24/80\n",
            "7/7 [==============================] - 0s 10ms/step - loss: 0.3333 - binary_accuracy: 0.8718 - val_loss: 0.5304 - val_binary_accuracy: 0.7547\n",
            "Epoch 25/80\n",
            "7/7 [==============================] - 0s 9ms/step - loss: 0.3311 - binary_accuracy: 0.8718 - val_loss: 0.5294 - val_binary_accuracy: 0.7547\n",
            "Epoch 26/80\n",
            "7/7 [==============================] - 0s 5ms/step - loss: 0.3292 - binary_accuracy: 0.8718 - val_loss: 0.5261 - val_binary_accuracy: 0.7547\n",
            "Epoch 27/80\n",
            "7/7 [==============================] - 0s 6ms/step - loss: 0.3268 - binary_accuracy: 0.8782 - val_loss: 0.5250 - val_binary_accuracy: 0.7547\n",
            "Epoch 28/80\n",
            "7/7 [==============================] - 0s 9ms/step - loss: 0.3246 - binary_accuracy: 0.8718 - val_loss: 0.5254 - val_binary_accuracy: 0.7547\n",
            "Epoch 29/80\n",
            "7/7 [==============================] - 0s 11ms/step - loss: 0.3224 - binary_accuracy: 0.8846 - val_loss: 0.5235 - val_binary_accuracy: 0.7547\n",
            "Epoch 30/80\n",
            "7/7 [==============================] - 0s 6ms/step - loss: 0.3204 - binary_accuracy: 0.8846 - val_loss: 0.5213 - val_binary_accuracy: 0.7547\n",
            "Epoch 31/80\n",
            "7/7 [==============================] - 0s 7ms/step - loss: 0.3182 - binary_accuracy: 0.8846 - val_loss: 0.5173 - val_binary_accuracy: 0.7736\n",
            "Epoch 32/80\n",
            "7/7 [==============================] - 0s 10ms/step - loss: 0.3158 - binary_accuracy: 0.8846 - val_loss: 0.5159 - val_binary_accuracy: 0.7736\n",
            "Epoch 33/80\n",
            "7/7 [==============================] - 0s 7ms/step - loss: 0.3136 - binary_accuracy: 0.8846 - val_loss: 0.5148 - val_binary_accuracy: 0.7736\n",
            "Epoch 34/80\n",
            "7/7 [==============================] - 0s 7ms/step - loss: 0.3112 - binary_accuracy: 0.8846 - val_loss: 0.5102 - val_binary_accuracy: 0.7736\n",
            "Epoch 35/80\n",
            "7/7 [==============================] - 0s 7ms/step - loss: 0.3089 - binary_accuracy: 0.8846 - val_loss: 0.5079 - val_binary_accuracy: 0.7736\n",
            "Epoch 36/80\n",
            "7/7 [==============================] - 0s 8ms/step - loss: 0.3064 - binary_accuracy: 0.8846 - val_loss: 0.5069 - val_binary_accuracy: 0.7736\n",
            "Epoch 37/80\n",
            "7/7 [==============================] - 0s 5ms/step - loss: 0.3040 - binary_accuracy: 0.8910 - val_loss: 0.5058 - val_binary_accuracy: 0.7736\n",
            "Epoch 38/80\n",
            "7/7 [==============================] - 0s 6ms/step - loss: 0.3020 - binary_accuracy: 0.8910 - val_loss: 0.5038 - val_binary_accuracy: 0.7736\n",
            "Epoch 39/80\n",
            "7/7 [==============================] - 0s 5ms/step - loss: 0.2996 - binary_accuracy: 0.8910 - val_loss: 0.5031 - val_binary_accuracy: 0.7736\n",
            "Epoch 40/80\n",
            "7/7 [==============================] - 0s 5ms/step - loss: 0.2973 - binary_accuracy: 0.8910 - val_loss: 0.5031 - val_binary_accuracy: 0.7736\n",
            "Epoch 41/80\n",
            "7/7 [==============================] - 0s 5ms/step - loss: 0.2949 - binary_accuracy: 0.8910 - val_loss: 0.5026 - val_binary_accuracy: 0.7736\n",
            "Epoch 42/80\n",
            "7/7 [==============================] - 0s 8ms/step - loss: 0.2928 - binary_accuracy: 0.8910 - val_loss: 0.5031 - val_binary_accuracy: 0.7736\n",
            "Epoch 43/80\n",
            "7/7 [==============================] - 0s 5ms/step - loss: 0.2908 - binary_accuracy: 0.8910 - val_loss: 0.5034 - val_binary_accuracy: 0.7736\n",
            "Epoch 44/80\n",
            "7/7 [==============================] - 0s 5ms/step - loss: 0.2887 - binary_accuracy: 0.8910 - val_loss: 0.5036 - val_binary_accuracy: 0.7736\n",
            "Epoch 45/80\n",
            "7/7 [==============================] - 0s 5ms/step - loss: 0.2869 - binary_accuracy: 0.8910 - val_loss: 0.5035 - val_binary_accuracy: 0.7736\n",
            "Epoch 46/80\n",
            "7/7 [==============================] - 0s 6ms/step - loss: 0.2848 - binary_accuracy: 0.8910 - val_loss: 0.5037 - val_binary_accuracy: 0.7736\n",
            "Epoch 47/80\n",
            "7/7 [==============================] - 0s 5ms/step - loss: 0.2831 - binary_accuracy: 0.8910 - val_loss: 0.5020 - val_binary_accuracy: 0.7736\n",
            "Epoch 48/80\n",
            "7/7 [==============================] - 0s 9ms/step - loss: 0.2808 - binary_accuracy: 0.8974 - val_loss: 0.5008 - val_binary_accuracy: 0.7736\n",
            "Epoch 49/80\n",
            "7/7 [==============================] - 0s 5ms/step - loss: 0.2791 - binary_accuracy: 0.9038 - val_loss: 0.4999 - val_binary_accuracy: 0.7925\n",
            "Epoch 50/80\n",
            "7/7 [==============================] - 0s 6ms/step - loss: 0.2770 - binary_accuracy: 0.9038 - val_loss: 0.4990 - val_binary_accuracy: 0.7925\n",
            "Epoch 51/80\n",
            "7/7 [==============================] - 0s 5ms/step - loss: 0.2751 - binary_accuracy: 0.9038 - val_loss: 0.4982 - val_binary_accuracy: 0.7925\n",
            "Epoch 52/80\n",
            "7/7 [==============================] - 0s 6ms/step - loss: 0.2732 - binary_accuracy: 0.9038 - val_loss: 0.4975 - val_binary_accuracy: 0.7925\n",
            "Epoch 53/80\n",
            "7/7 [==============================] - 0s 6ms/step - loss: 0.2714 - binary_accuracy: 0.9038 - val_loss: 0.4936 - val_binary_accuracy: 0.7736\n",
            "Epoch 54/80\n",
            "7/7 [==============================] - 0s 5ms/step - loss: 0.2696 - binary_accuracy: 0.9038 - val_loss: 0.4895 - val_binary_accuracy: 0.7736\n",
            "Epoch 55/80\n",
            "7/7 [==============================] - 0s 5ms/step - loss: 0.2678 - binary_accuracy: 0.9038 - val_loss: 0.4894 - val_binary_accuracy: 0.7736\n",
            "Epoch 56/80\n",
            "7/7 [==============================] - 0s 10ms/step - loss: 0.2654 - binary_accuracy: 0.9038 - val_loss: 0.4897 - val_binary_accuracy: 0.7736\n",
            "Epoch 57/80\n",
            "7/7 [==============================] - 0s 5ms/step - loss: 0.2635 - binary_accuracy: 0.9038 - val_loss: 0.4885 - val_binary_accuracy: 0.7736\n",
            "Epoch 58/80\n",
            "7/7 [==============================] - 0s 6ms/step - loss: 0.2617 - binary_accuracy: 0.9038 - val_loss: 0.4886 - val_binary_accuracy: 0.7736\n",
            "Epoch 59/80\n",
            "7/7 [==============================] - 0s 7ms/step - loss: 0.2596 - binary_accuracy: 0.9038 - val_loss: 0.4878 - val_binary_accuracy: 0.7736\n",
            "Epoch 60/80\n",
            "7/7 [==============================] - 0s 8ms/step - loss: 0.2576 - binary_accuracy: 0.9038 - val_loss: 0.4906 - val_binary_accuracy: 0.7736\n",
            "Epoch 61/80\n",
            "7/7 [==============================] - 0s 5ms/step - loss: 0.2561 - binary_accuracy: 0.9038 - val_loss: 0.4917 - val_binary_accuracy: 0.7736\n",
            "Epoch 62/80\n",
            "7/7 [==============================] - 0s 9ms/step - loss: 0.2548 - binary_accuracy: 0.9038 - val_loss: 0.4928 - val_binary_accuracy: 0.7736\n",
            "Epoch 63/80\n",
            "7/7 [==============================] - 0s 7ms/step - loss: 0.2531 - binary_accuracy: 0.9038 - val_loss: 0.4924 - val_binary_accuracy: 0.7736\n",
            "Epoch 64/80\n",
            "7/7 [==============================] - 0s 7ms/step - loss: 0.2511 - binary_accuracy: 0.9038 - val_loss: 0.4921 - val_binary_accuracy: 0.7736\n",
            "Epoch 65/80\n",
            "7/7 [==============================] - 0s 5ms/step - loss: 0.2493 - binary_accuracy: 0.9038 - val_loss: 0.4903 - val_binary_accuracy: 0.7736\n",
            "Epoch 66/80\n",
            "7/7 [==============================] - 0s 6ms/step - loss: 0.2476 - binary_accuracy: 0.9038 - val_loss: 0.4896 - val_binary_accuracy: 0.7736\n",
            "Epoch 67/80\n",
            "7/7 [==============================] - 0s 5ms/step - loss: 0.2459 - binary_accuracy: 0.9038 - val_loss: 0.4897 - val_binary_accuracy: 0.7736\n",
            "Epoch 68/80\n",
            "7/7 [==============================] - 0s 9ms/step - loss: 0.2441 - binary_accuracy: 0.9038 - val_loss: 0.4909 - val_binary_accuracy: 0.7736\n",
            "Epoch 69/80\n",
            "7/7 [==============================] - 0s 8ms/step - loss: 0.2430 - binary_accuracy: 0.9038 - val_loss: 0.4922 - val_binary_accuracy: 0.7736\n",
            "Epoch 70/80\n",
            "7/7 [==============================] - 0s 6ms/step - loss: 0.2414 - binary_accuracy: 0.9038 - val_loss: 0.4925 - val_binary_accuracy: 0.7736\n",
            "Epoch 71/80\n",
            "7/7 [==============================] - 0s 8ms/step - loss: 0.2398 - binary_accuracy: 0.9103 - val_loss: 0.4934 - val_binary_accuracy: 0.7736\n",
            "Epoch 72/80\n",
            "7/7 [==============================] - 0s 7ms/step - loss: 0.2379 - binary_accuracy: 0.9103 - val_loss: 0.4930 - val_binary_accuracy: 0.7736\n",
            "Epoch 73/80\n",
            "7/7 [==============================] - 0s 6ms/step - loss: 0.2364 - binary_accuracy: 0.9103 - val_loss: 0.4926 - val_binary_accuracy: 0.7736\n",
            "Epoch 74/80\n",
            "7/7 [==============================] - 0s 6ms/step - loss: 0.2346 - binary_accuracy: 0.9103 - val_loss: 0.4927 - val_binary_accuracy: 0.7736\n",
            "Epoch 75/80\n",
            "7/7 [==============================] - 0s 10ms/step - loss: 0.2328 - binary_accuracy: 0.9103 - val_loss: 0.4938 - val_binary_accuracy: 0.7736\n",
            "Epoch 76/80\n",
            "7/7 [==============================] - 0s 9ms/step - loss: 0.2314 - binary_accuracy: 0.9103 - val_loss: 0.4947 - val_binary_accuracy: 0.7736\n",
            "Epoch 77/80\n",
            "7/7 [==============================] - 0s 6ms/step - loss: 0.2301 - binary_accuracy: 0.9103 - val_loss: 0.4954 - val_binary_accuracy: 0.7736\n",
            "Epoch 78/80\n",
            "7/7 [==============================] - 0s 9ms/step - loss: 0.2282 - binary_accuracy: 0.9103 - val_loss: 0.4957 - val_binary_accuracy: 0.7736\n",
            "Epoch 79/80\n",
            "7/7 [==============================] - 0s 7ms/step - loss: 0.2271 - binary_accuracy: 0.9103 - val_loss: 0.4962 - val_binary_accuracy: 0.7736\n",
            "Epoch 80/80\n",
            "7/7 [==============================] - 0s 6ms/step - loss: 0.2257 - binary_accuracy: 0.9103 - val_loss: 0.4962 - val_binary_accuracy: 0.7736\n"
          ]
        }
      ]
    },
    {
      "cell_type": "markdown",
      "source": [
        "<h1 style='background:#F08080; border:0; border-radius: 10px; color:black'><center>Model Evaluation</center></h1>\n",
        "\n",
        "*   Print the validation accuracy\n",
        "*   Plot training and validation losses in the same plot\n",
        "*   Plot metrics performance on both training and validation in the same plot\n",
        "*   Predict the results for the test set\n",
        "*   Evaluate results (Hint: Use metrices based on problem type)"
      ],
      "metadata": {
        "id": "TM2BWUwL9GVF"
      },
      "id": "TM2BWUwL9GVF"
    },
    {
      "cell_type": "code",
      "execution_count": null,
      "id": "69a669c7",
      "metadata": {
        "execution": {
          "iopub.execute_input": "2022-04-17T03:49:04.006979Z",
          "iopub.status.busy": "2022-04-17T03:49:04.006410Z",
          "iopub.status.idle": "2022-04-17T03:49:04.012208Z",
          "shell.execute_reply": "2022-04-17T03:49:04.011277Z"
        },
        "papermill": {
          "duration": 0.128842,
          "end_time": "2022-04-17T03:49:04.015480",
          "exception": false,
          "start_time": "2022-04-17T03:49:03.886638",
          "status": "completed"
        },
        "tags": [],
        "id": "69a669c7",
        "colab": {
          "base_uri": "https://localhost:8080/"
        },
        "outputId": "9954ed0f-5181-4fa2-8be7-2aa8970e373f"
      },
      "outputs": [
        {
          "output_type": "execute_result",
          "data": {
            "text/plain": [
              "[0.7547169923782349,\n",
              " 0.7547169923782349,\n",
              " 0.7547169923782349,\n",
              " 0.7547169923782349,\n",
              " 0.7547169923782349,\n",
              " 0.7547169923782349,\n",
              " 0.7547169923782349,\n",
              " 0.7547169923782349,\n",
              " 0.7547169923782349,\n",
              " 0.7358490824699402,\n",
              " 0.7358490824699402,\n",
              " 0.7358490824699402,\n",
              " 0.7358490824699402,\n",
              " 0.7358490824699402,\n",
              " 0.7358490824699402,\n",
              " 0.7358490824699402,\n",
              " 0.7358490824699402,\n",
              " 0.7358490824699402,\n",
              " 0.7358490824699402,\n",
              " 0.7358490824699402,\n",
              " 0.7547169923782349,\n",
              " 0.7547169923782349,\n",
              " 0.7547169923782349,\n",
              " 0.7547169923782349,\n",
              " 0.7547169923782349,\n",
              " 0.7547169923782349,\n",
              " 0.7547169923782349,\n",
              " 0.7547169923782349,\n",
              " 0.7547169923782349,\n",
              " 0.7547169923782349,\n",
              " 0.7735849022865295,\n",
              " 0.7735849022865295,\n",
              " 0.7735849022865295,\n",
              " 0.7735849022865295,\n",
              " 0.7735849022865295,\n",
              " 0.7735849022865295,\n",
              " 0.7735849022865295,\n",
              " 0.7735849022865295,\n",
              " 0.7735849022865295,\n",
              " 0.7735849022865295,\n",
              " 0.7735849022865295,\n",
              " 0.7735849022865295,\n",
              " 0.7735849022865295,\n",
              " 0.7735849022865295,\n",
              " 0.7735849022865295,\n",
              " 0.7735849022865295,\n",
              " 0.7735849022865295,\n",
              " 0.7735849022865295,\n",
              " 0.7924528121948242,\n",
              " 0.7924528121948242,\n",
              " 0.7924528121948242,\n",
              " 0.7924528121948242,\n",
              " 0.7735849022865295,\n",
              " 0.7735849022865295,\n",
              " 0.7735849022865295,\n",
              " 0.7735849022865295,\n",
              " 0.7735849022865295,\n",
              " 0.7735849022865295,\n",
              " 0.7735849022865295,\n",
              " 0.7735849022865295,\n",
              " 0.7735849022865295,\n",
              " 0.7735849022865295,\n",
              " 0.7735849022865295,\n",
              " 0.7735849022865295,\n",
              " 0.7735849022865295,\n",
              " 0.7735849022865295,\n",
              " 0.7735849022865295,\n",
              " 0.7735849022865295,\n",
              " 0.7735849022865295,\n",
              " 0.7735849022865295,\n",
              " 0.7735849022865295,\n",
              " 0.7735849022865295,\n",
              " 0.7735849022865295,\n",
              " 0.7735849022865295,\n",
              " 0.7735849022865295,\n",
              " 0.7735849022865295,\n",
              " 0.7735849022865295,\n",
              " 0.7735849022865295,\n",
              " 0.7735849022865295,\n",
              " 0.7735849022865295]"
            ]
          },
          "metadata": {},
          "execution_count": 82
        }
      ],
      "source": [
        "# 15. validation accuracy\n",
        "history.history['val_binary_accuracy']"
      ]
    },
    {
      "cell_type": "code",
      "execution_count": null,
      "id": "3117df84",
      "metadata": {
        "execution": {
          "iopub.execute_input": "2022-04-17T03:49:04.254011Z",
          "iopub.status.busy": "2022-04-17T03:49:04.253179Z",
          "iopub.status.idle": "2022-04-17T03:49:09.244794Z",
          "shell.execute_reply": "2022-04-17T03:49:09.243924Z"
        },
        "papermill": {
          "duration": 5.111467,
          "end_time": "2022-04-17T03:49:09.246967",
          "exception": false,
          "start_time": "2022-04-17T03:49:04.135500",
          "status": "completed"
        },
        "tags": [],
        "id": "3117df84",
        "colab": {
          "base_uri": "https://localhost:8080/",
          "height": 295
        },
        "outputId": "4634b1dd-6b92-4f06-8e60-ecf8a68fe038"
      },
      "outputs": [
        {
          "output_type": "display_data",
          "data": {
            "text/plain": [
              "<Figure size 432x288 with 1 Axes>"
            ],
            "image/png": "[encoded data removed]"
          },
          "metadata": {
            "needs_background": "light"
          }
        }
      ],
      "source": [
        "# 16. plot training and validation losses in the same plot\n",
        "plt.plot(history.history['binary_accuracy'])\n",
        "plt.plot(history.history['val_binary_accuracy'])\n",
        "plt.xlabel('epoch')\n",
        "plt.legend(['train', 'validation'], loc='upper left')\n",
        "plt.title('model accuracy')\n",
        "plt.ylabel('accuracy')\n",
        "plt.show()\n"
      ]
    },
    {
      "cell_type": "code",
      "execution_count": null,
      "id": "0b2ba54c",
      "metadata": {
        "execution": {
          "iopub.execute_input": "2022-04-17T03:49:09.486049Z",
          "iopub.status.busy": "2022-04-17T03:49:09.485780Z",
          "iopub.status.idle": "2022-04-17T03:49:09.665899Z",
          "shell.execute_reply": "2022-04-17T03:49:09.665177Z"
        },
        "papermill": {
          "duration": 0.303179,
          "end_time": "2022-04-17T03:49:09.668130",
          "exception": false,
          "start_time": "2022-04-17T03:49:09.364951",
          "status": "completed"
        },
        "tags": [],
        "id": "0b2ba54c",
        "colab": {
          "base_uri": "https://localhost:8080/",
          "height": 295
        },
        "outputId": "19ca085c-82f3-41b4-efb2-e4e6b9c80813"
      },
      "outputs": [
        {
          "output_type": "display_data",
          "data": {
            "text/plain": [
              "<Figure size 432x288 with 1 Axes>"
            ],
            "image/png": "[encoded data removed]"
          },
          "metadata": {
            "needs_background": "light"
          }
        }
      ],
      "source": [
        "# 17. plot metrics performance on both training and validation in the same plot\n",
        "\n",
        "\n",
        "plt.plot(history.history['loss'])\n",
        "plt.plot(history.history['val_loss'])\n",
        "plt.title('model accuracy')\n",
        "plt.ylabel('loss')\n",
        "plt.xlabel('epoch')\n",
        "plt.legend(['train', 'validation'], loc='upper left')\n",
        "plt.show()"
      ]
    },
    {
      "cell_type": "code",
      "execution_count": null,
      "id": "027ee9bf",
      "metadata": {
        "execution": {
          "iopub.execute_input": "2022-04-17T03:49:09.909383Z",
          "iopub.status.busy": "2022-04-17T03:49:09.908656Z",
          "iopub.status.idle": "2022-04-17T03:49:10.065317Z",
          "shell.execute_reply": "2022-04-17T03:49:10.064510Z"
        },
        "papermill": {
          "duration": 0.2807,
          "end_time": "2022-04-17T03:49:10.067678",
          "exception": false,
          "start_time": "2022-04-17T03:49:09.786978",
          "status": "completed"
        },
        "tags": [],
        "id": "027ee9bf",
        "colab": {
          "base_uri": "https://localhost:8080/"
        },
        "outputId": "6572075b-a625-4047-ff23-6f594bce213d"
      },
      "outputs": [
        {
          "output_type": "stream",
          "name": "stdout",
          "text": [
            "3/3 [==============================] - 0s 4ms/step\n",
            "[[47  6]\n",
            " [20 17]] 0.7111111111111111\n"
          ]
        }
      ],
      "source": [
        "# 18. Predicting the test set results\n",
        "y_pred = classifier.predict(X_test)\n",
        "#Define the threshold\n",
        "threshold=0.5\n",
        "\n",
        "y_pred = y_pred >= threshold\n",
        "\n",
        "cm = confusion_matrix(y_test, y_pred)\n",
        "score = accuracy_score(y_pred,y_test)\n",
        "print(cm, score)"
      ]
    },
    {
      "cell_type": "markdown",
      "source": [],
      "metadata": {
        "id": "g9iq5XdXXP9D"
      },
      "id": "g9iq5XdXXP9D"
    },
    {
      "cell_type": "markdown",
      "source": [
        "![1_n2im9rDJdRQMBNZ3pPMKXw.png](data:image/png;base64,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)"
      ],
      "metadata": {
        "id": "PM2fu7wtXSBw"
      },
      "id": "PM2fu7wtXSBw"
    },
    {
      "cell_type": "code",
      "execution_count": null,
      "id": "6e404755",
      "metadata": {
        "execution": {
          "iopub.execute_input": "2022-04-17T03:49:10.308852Z",
          "iopub.status.busy": "2022-04-17T03:49:10.308584Z",
          "iopub.status.idle": "2022-04-17T03:49:10.537056Z",
          "shell.execute_reply": "2022-04-17T03:49:10.536130Z"
        },
        "papermill": {
          "duration": 0.351434,
          "end_time": "2022-04-17T03:49:10.539426",
          "exception": false,
          "start_time": "2022-04-17T03:49:10.187992",
          "status": "completed"
        },
        "tags": [],
        "id": "6e404755",
        "colab": {
          "base_uri": "https://localhost:8080/"
        },
        "outputId": "7354288b-b0d4-4804-fe47-26420c4254c3"
      },
      "outputs": [
        {
          "output_type": "stream",
          "name": "stdout",
          "text": [
            "              precision    recall  f1-score   support\n",
            "\n",
            "           0       0.70      0.89      0.78        53\n",
            "           1       0.74      0.46      0.57        37\n",
            "\n",
            "    accuracy                           0.71        90\n",
            "   macro avg       0.72      0.67      0.68        90\n",
            "weighted avg       0.72      0.71      0.69        90\n",
            "\n"
          ]
        }
      ],
      "source": [
        "# 19. evaluate results (Hint: Use metrices based on problem type)\n",
        "print(classification_report(y_test, y_pred))"
      ]
    }
  ],
  "metadata": {
    "kernelspec": {
      "display_name": "Python 3",
      "language": "python",
      "name": "python3"
    },
    "language_info": {
      "codemirror_mode": {
        "name": "ipython",
        "version": 3
      },
      "file_extension": ".py",
      "mimetype": "text/x-python",
      "name": "python",
      "nbconvert_exporter": "python",
      "pygments_lexer": "ipython3",
      "version": "3.7.12"
    },
    "papermill": {
      "default_parameters": {},
      "duration": 43.715898,
      "end_time": "2022-04-17T03:49:14.471062",
      "environment_variables": {},
      "exception": null,
      "input_path": "__notebook__.ipynb",
      "output_path": "__notebook__.ipynb",
      "parameters": {},
      "start_time": "2022-04-17T03:48:30.755164",
      "version": "2.3.4"
    },
    "colab": {
      "provenance": []
    }
  },
  "nbformat": 4,
  "nbformat_minor": 5
}